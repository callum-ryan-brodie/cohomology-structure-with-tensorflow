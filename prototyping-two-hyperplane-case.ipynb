{
 "cells": [
  {
   "cell_type": "code",
   "execution_count": 1,
   "id": "584f5cff",
   "metadata": {
    "execution": {
     "iopub.execute_input": "2023-06-16T12:47:39.392707Z",
     "iopub.status.busy": "2023-06-16T12:47:39.391834Z",
     "iopub.status.idle": "2023-06-16T12:47:47.439291Z",
     "shell.execute_reply": "2023-06-16T12:47:47.438368Z"
    },
    "papermill": {
     "duration": 8.056378,
     "end_time": "2023-06-16T12:47:47.441718",
     "exception": false,
     "start_time": "2023-06-16T12:47:39.385340",
     "status": "completed"
    },
    "tags": []
   },
   "outputs": [
    {
     "name": "stderr",
     "output_type": "stream",
     "text": [
      "/opt/conda/lib/python3.10/site-packages/scipy/__init__.py:146: UserWarning: A NumPy version >=1.16.5 and <1.23.0 is required for this version of SciPy (detected version 1.23.5\n",
      "  warnings.warn(f\"A NumPy version >={np_minversion} and <{np_maxversion}\"\n"
     ]
    }
   ],
   "source": [
    "import numpy as np\n",
    "import tensorflow as tf\n",
    "import pandas as pd\n",
    "\n",
    "from tensorflow import keras\n",
    "from tensorflow.keras.models import Model\n",
    "from tensorflow.keras.layers import Input, Activation, Dense, Dot\n",
    "from tensorflow.keras.optimizers import Adam\n",
    "from tensorflow.keras.optimizers import SGD\n",
    "from tensorflow.keras.callbacks import LearningRateScheduler"
   ]
  },
  {
   "cell_type": "code",
   "execution_count": 2,
   "id": "0ab0b148",
   "metadata": {
    "execution": {
     "iopub.execute_input": "2023-06-16T12:47:47.452686Z",
     "iopub.status.busy": "2023-06-16T12:47:47.451963Z",
     "iopub.status.idle": "2023-06-16T12:47:47.461003Z",
     "shell.execute_reply": "2023-06-16T12:47:47.459785Z"
    },
    "papermill": {
     "duration": 0.016623,
     "end_time": "2023-06-16T12:47:47.463024",
     "exception": false,
     "start_time": "2023-06-16T12:47:47.446401",
     "status": "completed"
    },
    "tags": []
   },
   "outputs": [],
   "source": [
    "# Functions for visualising the output\n",
    "\n",
    "import matplotlib.pyplot as plt\n",
    "\n",
    "def draw_grid(grid, ax, title):\n",
    "    for (x, y), val in grid.items():\n",
    "        ax.text(x, y, str(val), ha='center', va='center', fontsize=8, fontweight='bold', color='white')\n",
    "        ax.plot(x, y, marker='s', markersize=16, color='blue')\n",
    "    \n",
    "    ax.set_xlim(-11, 11)\n",
    "    ax.set_ylim(-11, 11)\n",
    "    ax.set_xticks(range(-10, 11))\n",
    "    ax.set_yticks(range(-10, 11))\n",
    "    ax.set_aspect('equal')\n",
    "    ax.grid(True)\n",
    "    ax.set_axisbelow(True)\n",
    "    ax.set_title(title)\n",
    "\n",
    "def convert_data_to_grid(k_list,label_list):\n",
    "    grid = {}\n",
    "    for i in range(len(k_list)):\n",
    "        x, y = k_list[i]\n",
    "        val = label_list[i]\n",
    "        if val != 0:\n",
    "            grid[(x, y)] = val\n",
    "    return grid"
   ]
  },
  {
   "cell_type": "markdown",
   "id": "dabfcd23",
   "metadata": {
    "papermill": {
     "duration": 0.004149,
     "end_time": "2023-06-16T12:47:47.471736",
     "exception": false,
     "start_time": "2023-06-16T12:47:47.467587",
     "status": "completed"
    },
    "tags": []
   },
   "source": [
    "# Setting up the model"
   ]
  },
  {
   "cell_type": "code",
   "execution_count": 3,
   "id": "3c3e8a72",
   "metadata": {
    "execution": {
     "iopub.execute_input": "2023-06-16T12:47:47.481927Z",
     "iopub.status.busy": "2023-06-16T12:47:47.481566Z",
     "iopub.status.idle": "2023-06-16T12:47:47.697266Z",
     "shell.execute_reply": "2023-06-16T12:47:47.696203Z"
    },
    "papermill": {
     "duration": 0.223503,
     "end_time": "2023-06-16T12:47:47.699582",
     "exception": false,
     "start_time": "2023-06-16T12:47:47.476079",
     "status": "completed"
    },
    "tags": []
   },
   "outputs": [
    {
     "name": "stdout",
     "output_type": "stream",
     "text": [
      "Model: \"model\"\n",
      "__________________________________________________________________________________________________\n",
      " Layer (type)                   Output Shape         Param #     Connected to                     \n",
      "==================================================================================================\n",
      " k_input (InputLayer)           [(None, 2)]          0           []                               \n",
      "                                                                                                  \n",
      " doms_hidden (Dense)            (None, 2)            4           ['k_input[0][0]']                \n",
      "                                                                                                  \n",
      " k_quad_input (InputLayer)      [(None, 6)]          0           []                               \n",
      "                                                                                                  \n",
      " doms_out (Dense)               (None, 4)            12          ['doms_hidden[0][0]']            \n",
      "                                                                                                  \n",
      " pols_out (Dense)               (None, 4)            24          ['k_quad_input[0][0]']           \n",
      "                                                                                                  \n",
      " dot (Dot)                      (None, 1)            0           ['doms_out[0][0]',               \n",
      "                                                                  'pols_out[0][0]']               \n",
      "                                                                                                  \n",
      "==================================================================================================\n",
      "Total params: 40\n",
      "Trainable params: 40\n",
      "Non-trainable params: 0\n",
      "__________________________________________________________________________________________________\n"
     ]
    }
   ],
   "source": [
    "num_hyps = 2\n",
    "num_doms = 2*num_hyps\n",
    "hyps_to_doms_params = [\n",
    "[-3+1/2,2,2],\n",
    "[-1+1/2,2,-2],\n",
    "[-1+1/2,-2,2],\n",
    "[1+1/2,-2,-2]]\n",
    "# Note that the +1/2 terms mean that a boundary gets contributions from the polynomials on either side\n",
    "\n",
    "temp = [\n",
    "[1,0],\n",
    "[0,1]]\n",
    "temp_array = 200*np.array(temp)\n",
    "weights_array = 200*np.transpose(hyps_to_doms_params)[1:]\n",
    "bias_array = 200*np.transpose(hyps_to_doms_params)[0]\n",
    "\n",
    "k_input = Input(shape=(2,), name='k_input')\n",
    "doms_hidden = Dense(units=num_hyps, input_shape=(2,), \n",
    "        activation='sigmoid', use_bias=False,\n",
    "        #trainable=False, weights=[temp_array],\n",
    "        name='doms_hidden')(k_input)\n",
    "# Layer for mapping the hyperplane conditions to region conditions:\n",
    "doms_out = Dense(units=num_doms,\n",
    "        activation='sigmoid',\n",
    "        #trainable=False, weights=[weights_array, bias_array],\n",
    "        bias_initializer='ones', name='doms_out')(doms_hidden)\n",
    "\n",
    "k_quad_input = Input(shape=(6,), name='k_quad_input')\n",
    "# Layer for mapping [1,k1,k2,k1^2,k1*k2,k2^2] to polynomials for each region:\n",
    "pols_out = Dense(units=num_doms, input_shape=(6,), \n",
    "        use_bias=False, name='pols_out')(k_quad_input)\n",
    "\n",
    "final_pol_out = Dot(axes=1)([doms_out,pols_out])\n",
    "\n",
    "model = Model(inputs=[k_input,k_quad_input], outputs=[final_pol_out])\n",
    "\n",
    "model.summary()"
   ]
  },
  {
   "cell_type": "markdown",
   "id": "78c3c9b9",
   "metadata": {
    "papermill": {
     "duration": 0.005516,
     "end_time": "2023-06-16T12:47:47.710902",
     "exception": false,
     "start_time": "2023-06-16T12:47:47.705386",
     "status": "completed"
    },
    "tags": []
   },
   "source": [
    "# Training the model\n",
    "\n",
    "First we read in the data. Note that the part of the network that builds the polynomials takes as input the values [1,k1,k2,k1^2,k1*k2,k2^2], so we create these from the data."
   ]
  },
  {
   "cell_type": "code",
   "execution_count": 4,
   "id": "7f6a0807",
   "metadata": {
    "execution": {
     "iopub.execute_input": "2023-06-16T12:47:47.724313Z",
     "iopub.status.busy": "2023-06-16T12:47:47.723926Z",
     "iopub.status.idle": "2023-06-16T12:47:47.747210Z",
     "shell.execute_reply": "2023-06-16T12:47:47.745913Z"
    },
    "papermill": {
     "duration": 0.033645,
     "end_time": "2023-06-16T12:47:47.750210",
     "exception": false,
     "start_time": "2023-06-16T12:47:47.716565",
     "status": "completed"
    },
    "tags": []
   },
   "outputs": [],
   "source": [
    "data = pd.read_csv('/kaggle/input/p1xp1-data/p1xp1_data.csv',names=[\"k1\",\"k2\",\"h0\"])\n",
    "data.head()\n",
    "\n",
    "k_list = data.values[:,0:2]\n",
    "label_list = data.values[:,2]\n",
    "\n",
    "kquad_list = [None] * len(k_list)\n",
    "for i in range(len(k_list)):\n",
    "    k1 = k_list[i,0]\n",
    "    k2 = k_list[i,1]\n",
    "    kquad_list[i] = [1,k1,k2,k1**2,k1*k2,k2**2]\n",
    "    \n",
    "ks = np.array(k_list)\n",
    "kquads = np.array(kquad_list)\n",
    "labels = np.array(label_list)"
   ]
  },
  {
   "cell_type": "code",
   "execution_count": 5,
   "id": "0c85dac6",
   "metadata": {
    "execution": {
     "iopub.execute_input": "2023-06-16T12:47:47.764120Z",
     "iopub.status.busy": "2023-06-16T12:47:47.763358Z",
     "iopub.status.idle": "2023-06-16T12:47:53.738556Z",
     "shell.execute_reply": "2023-06-16T12:47:53.737510Z"
    },
    "papermill": {
     "duration": 5.984915,
     "end_time": "2023-06-16T12:47:53.741025",
     "exception": false,
     "start_time": "2023-06-16T12:47:47.756110",
     "status": "completed"
    },
    "tags": []
   },
   "outputs": [
    {
     "name": "stdout",
     "output_type": "stream",
     "text": [
      "Epoch 1/200\n",
      "5/5 [==============================] - 1s 4ms/step - loss: 2810.9451 - lr: 1.0000\n",
      "Epoch 2/200\n",
      "5/5 [==============================] - 0s 3ms/step - loss: 582.6163 - lr: 1.0000\n",
      "Epoch 3/200\n",
      "5/5 [==============================] - 0s 2ms/step - loss: 580.4748 - lr: 1.0000\n",
      "Epoch 4/200\n",
      "5/5 [==============================] - 0s 2ms/step - loss: 580.4497 - lr: 1.0000\n",
      "Epoch 5/200\n",
      "5/5 [==============================] - 0s 2ms/step - loss: 580.4817 - lr: 1.0000\n",
      "Epoch 6/200\n",
      "5/5 [==============================] - 0s 2ms/step - loss: 580.4917 - lr: 1.0000\n",
      "Epoch 7/200\n",
      "5/5 [==============================] - 0s 2ms/step - loss: 580.4949 - lr: 1.0000\n",
      "Epoch 8/200\n",
      "5/5 [==============================] - 0s 2ms/step - loss: 580.4966 - lr: 1.0000\n",
      "Epoch 9/200\n",
      "5/5 [==============================] - 0s 2ms/step - loss: 580.4979 - lr: 1.0000\n",
      "Epoch 10/200\n",
      "5/5 [==============================] - 0s 2ms/step - loss: 580.4971 - lr: 1.0000\n",
      "Epoch 11/200\n",
      "5/5 [==============================] - 0s 2ms/step - loss: 580.4958 - lr: 1.0000\n",
      "Epoch 12/200\n",
      "5/5 [==============================] - 0s 2ms/step - loss: 580.4942 - lr: 1.0000\n",
      "Epoch 13/200\n",
      "5/5 [==============================] - 0s 2ms/step - loss: 580.4929 - lr: 1.0000\n",
      "Epoch 14/200\n",
      "5/5 [==============================] - 0s 2ms/step - loss: 580.4913 - lr: 1.0000\n",
      "Epoch 15/200\n",
      "5/5 [==============================] - 0s 2ms/step - loss: 580.4894 - lr: 1.0000\n",
      "Epoch 16/200\n",
      "5/5 [==============================] - 0s 2ms/step - loss: 580.4873 - lr: 1.0000\n",
      "Epoch 17/200\n",
      "5/5 [==============================] - 0s 2ms/step - loss: 580.4854 - lr: 1.0000\n",
      "Epoch 18/200\n",
      "5/5 [==============================] - 0s 2ms/step - loss: 580.4828 - lr: 1.0000\n",
      "Epoch 19/200\n",
      "5/5 [==============================] - 0s 2ms/step - loss: 580.4805 - lr: 1.0000\n",
      "Epoch 20/200\n",
      "5/5 [==============================] - 0s 2ms/step - loss: 580.4770 - lr: 1.0000\n",
      "Epoch 21/200\n",
      "5/5 [==============================] - 0s 2ms/step - loss: 580.4724 - lr: 1.0000\n",
      "Epoch 22/200\n",
      "5/5 [==============================] - 0s 2ms/step - loss: 580.4672 - lr: 1.0000\n",
      "Epoch 23/200\n",
      "5/5 [==============================] - 0s 3ms/step - loss: 580.4594 - lr: 1.0000\n",
      "Epoch 24/200\n",
      "5/5 [==============================] - 0s 2ms/step - loss: 580.4476 - lr: 1.0000\n",
      "Epoch 25/200\n",
      "5/5 [==============================] - 0s 2ms/step - loss: 580.4345 - lr: 1.0000\n",
      "Epoch 26/200\n",
      "5/5 [==============================] - 0s 2ms/step - loss: 580.4150 - lr: 1.0000\n",
      "Epoch 27/200\n",
      "5/5 [==============================] - 0s 2ms/step - loss: 580.3933 - lr: 1.0000\n",
      "Epoch 28/200\n",
      "5/5 [==============================] - 0s 2ms/step - loss: 580.3747 - lr: 1.0000\n",
      "Epoch 29/200\n",
      "5/5 [==============================] - 0s 2ms/step - loss: 580.3570 - lr: 1.0000\n",
      "Epoch 30/200\n",
      "5/5 [==============================] - 0s 2ms/step - loss: 580.3436 - lr: 1.0000\n",
      "Epoch 31/200\n",
      "5/5 [==============================] - 0s 2ms/step - loss: 580.3218 - lr: 1.0000\n",
      "Epoch 32/200\n",
      "5/5 [==============================] - 0s 3ms/step - loss: 580.2950 - lr: 1.0000\n",
      "Epoch 33/200\n",
      "5/5 [==============================] - 0s 2ms/step - loss: 580.2627 - lr: 1.0000\n",
      "Epoch 34/200\n",
      "5/5 [==============================] - 0s 2ms/step - loss: 580.1818 - lr: 1.0000\n",
      "Epoch 35/200\n",
      "5/5 [==============================] - 0s 3ms/step - loss: 580.1342 - lr: 1.0000\n",
      "Epoch 36/200\n",
      "5/5 [==============================] - 0s 2ms/step - loss: 580.0397 - lr: 1.0000\n",
      "Epoch 37/200\n",
      "5/5 [==============================] - 0s 3ms/step - loss: 579.8857 - lr: 1.0000\n",
      "Epoch 38/200\n",
      "5/5 [==============================] - 0s 3ms/step - loss: 579.6908 - lr: 1.0000\n",
      "Epoch 39/200\n",
      "5/5 [==============================] - 0s 2ms/step - loss: 579.4149 - lr: 1.0000\n",
      "Epoch 40/200\n",
      "5/5 [==============================] - 0s 2ms/step - loss: 578.7521 - lr: 1.0000\n",
      "Epoch 41/200\n",
      "5/5 [==============================] - 0s 2ms/step - loss: 577.6508 - lr: 1.0000\n",
      "Epoch 42/200\n",
      "5/5 [==============================] - 0s 2ms/step - loss: 572.5941 - lr: 1.0000\n",
      "Epoch 43/200\n",
      "5/5 [==============================] - 0s 2ms/step - loss: 567.2720 - lr: 1.0000\n",
      "Epoch 44/200\n",
      "5/5 [==============================] - 0s 2ms/step - loss: 562.7333 - lr: 1.0000\n",
      "Epoch 45/200\n",
      "5/5 [==============================] - 0s 2ms/step - loss: 554.1155 - lr: 1.0000\n",
      "Epoch 46/200\n",
      "5/5 [==============================] - 0s 2ms/step - loss: 533.8954 - lr: 1.0000\n",
      "Epoch 47/200\n",
      "5/5 [==============================] - 0s 2ms/step - loss: 456.0230 - lr: 1.0000\n",
      "Epoch 48/200\n",
      "5/5 [==============================] - 0s 2ms/step - loss: 171.0401 - lr: 1.0000\n",
      "Epoch 49/200\n",
      "5/5 [==============================] - 0s 2ms/step - loss: 141.1958 - lr: 1.0000\n",
      "Epoch 50/200\n",
      "5/5 [==============================] - 0s 2ms/step - loss: 76.3549 - lr: 1.0000\n",
      "Epoch 51/200\n",
      "5/5 [==============================] - 0s 2ms/step - loss: 80.1530 - lr: 0.9950\n",
      "Epoch 52/200\n",
      "5/5 [==============================] - 0s 2ms/step - loss: 29.6469 - lr: 0.9900\n",
      "Epoch 53/200\n",
      "5/5 [==============================] - 0s 2ms/step - loss: 38.6529 - lr: 0.9851\n",
      "Epoch 54/200\n",
      "5/5 [==============================] - 0s 2ms/step - loss: 15.8311 - lr: 0.9802\n",
      "Epoch 55/200\n",
      "5/5 [==============================] - 0s 2ms/step - loss: 8.3068 - lr: 0.9753\n",
      "Epoch 56/200\n",
      "5/5 [==============================] - 0s 2ms/step - loss: 10.6037 - lr: 0.9704\n",
      "Epoch 57/200\n",
      "5/5 [==============================] - 0s 2ms/step - loss: 10.5261 - lr: 0.9656\n",
      "Epoch 58/200\n",
      "5/5 [==============================] - 0s 2ms/step - loss: 5.9122 - lr: 0.9608\n",
      "Epoch 59/200\n",
      "5/5 [==============================] - 0s 2ms/step - loss: 3.9564 - lr: 0.9560\n",
      "Epoch 60/200\n",
      "5/5 [==============================] - 0s 2ms/step - loss: 2.0814 - lr: 0.9512\n",
      "Epoch 61/200\n",
      "5/5 [==============================] - 0s 2ms/step - loss: 1.6160 - lr: 0.9465\n",
      "Epoch 62/200\n",
      "5/5 [==============================] - 0s 2ms/step - loss: 1.8084 - lr: 0.9418\n",
      "Epoch 63/200\n",
      "5/5 [==============================] - 0s 2ms/step - loss: 3.0765 - lr: 0.9371\n",
      "Epoch 64/200\n",
      "5/5 [==============================] - 0s 2ms/step - loss: 1.3578 - lr: 0.9324\n",
      "Epoch 65/200\n",
      "5/5 [==============================] - 0s 2ms/step - loss: 0.6266 - lr: 0.9277\n",
      "Epoch 66/200\n",
      "5/5 [==============================] - 0s 2ms/step - loss: 0.4150 - lr: 0.9231\n",
      "Epoch 67/200\n",
      "5/5 [==============================] - 0s 2ms/step - loss: 0.3490 - lr: 0.9185\n",
      "Epoch 68/200\n",
      "5/5 [==============================] - 0s 2ms/step - loss: 0.3878 - lr: 0.9139\n",
      "Epoch 69/200\n",
      "5/5 [==============================] - 0s 2ms/step - loss: 0.1458 - lr: 0.9094\n",
      "Epoch 70/200\n",
      "5/5 [==============================] - 0s 2ms/step - loss: 0.1292 - lr: 0.9048\n",
      "Epoch 71/200\n",
      "5/5 [==============================] - 0s 2ms/step - loss: 0.0980 - lr: 0.9003\n",
      "Epoch 72/200\n",
      "5/5 [==============================] - 0s 2ms/step - loss: 0.0913 - lr: 0.8958\n",
      "Epoch 73/200\n",
      "5/5 [==============================] - 0s 2ms/step - loss: 0.0883 - lr: 0.8914\n",
      "Epoch 74/200\n",
      "5/5 [==============================] - 0s 2ms/step - loss: 0.0809 - lr: 0.8869\n",
      "Epoch 75/200\n",
      "5/5 [==============================] - 0s 2ms/step - loss: 0.0736 - lr: 0.8825\n",
      "Epoch 76/200\n",
      "5/5 [==============================] - 0s 2ms/step - loss: 0.0755 - lr: 0.8781\n",
      "Epoch 77/200\n",
      "5/5 [==============================] - 0s 2ms/step - loss: 0.0704 - lr: 0.8737\n",
      "Epoch 78/200\n",
      "5/5 [==============================] - 0s 2ms/step - loss: 0.0716 - lr: 0.8694\n",
      "Epoch 79/200\n",
      "5/5 [==============================] - 0s 2ms/step - loss: 0.0700 - lr: 0.8650\n",
      "Epoch 80/200\n",
      "5/5 [==============================] - 0s 2ms/step - loss: 0.0699 - lr: 0.8607\n",
      "Epoch 81/200\n",
      "5/5 [==============================] - 0s 2ms/step - loss: 0.0677 - lr: 0.8564\n",
      "Epoch 82/200\n",
      "5/5 [==============================] - 0s 2ms/step - loss: 0.0639 - lr: 0.8521\n",
      "Epoch 83/200\n",
      "5/5 [==============================] - 0s 2ms/step - loss: 0.0610 - lr: 0.8479\n",
      "Epoch 84/200\n",
      "5/5 [==============================] - 0s 2ms/step - loss: 0.0609 - lr: 0.8437\n",
      "Epoch 85/200\n",
      "5/5 [==============================] - 0s 2ms/step - loss: 0.0580 - lr: 0.8395\n",
      "Epoch 86/200\n",
      "5/5 [==============================] - 0s 2ms/step - loss: 0.0573 - lr: 0.8353\n",
      "Epoch 87/200\n",
      "5/5 [==============================] - 0s 2ms/step - loss: 0.0592 - lr: 0.8311\n",
      "Epoch 88/200\n",
      "5/5 [==============================] - 0s 2ms/step - loss: 0.0571 - lr: 0.8270\n",
      "Epoch 89/200\n",
      "5/5 [==============================] - 0s 3ms/step - loss: 0.0603 - lr: 0.8228\n",
      "Epoch 90/200\n",
      "5/5 [==============================] - 0s 2ms/step - loss: 0.0642 - lr: 0.8187\n",
      "Epoch 91/200\n",
      "5/5 [==============================] - 0s 3ms/step - loss: 0.0605 - lr: 0.8146\n",
      "Epoch 92/200\n",
      "5/5 [==============================] - 0s 2ms/step - loss: 0.0588 - lr: 0.8106\n",
      "Epoch 93/200\n",
      "5/5 [==============================] - 0s 3ms/step - loss: 0.0652 - lr: 0.8065\n",
      "Epoch 94/200\n",
      "5/5 [==============================] - 0s 2ms/step - loss: 0.0544 - lr: 0.8025\n",
      "Epoch 95/200\n",
      "5/5 [==============================] - 0s 2ms/step - loss: 0.0539 - lr: 0.7985\n",
      "Epoch 96/200\n",
      "5/5 [==============================] - 0s 2ms/step - loss: 0.0556 - lr: 0.7945\n",
      "Epoch 97/200\n",
      "5/5 [==============================] - 0s 2ms/step - loss: 0.0537 - lr: 0.7906\n",
      "Epoch 98/200\n",
      "5/5 [==============================] - 0s 2ms/step - loss: 0.0512 - lr: 0.7866\n",
      "Epoch 99/200\n",
      "5/5 [==============================] - 0s 2ms/step - loss: 0.0545 - lr: 0.7827\n",
      "Epoch 100/200\n",
      "5/5 [==============================] - 0s 2ms/step - loss: 0.0538 - lr: 0.7788\n",
      "Epoch 101/200\n",
      "5/5 [==============================] - 0s 2ms/step - loss: 0.0563 - lr: 0.7749\n",
      "Epoch 102/200\n",
      "5/5 [==============================] - 0s 2ms/step - loss: 0.0539 - lr: 0.7711\n",
      "Epoch 103/200\n",
      "5/5 [==============================] - 0s 2ms/step - loss: 0.0504 - lr: 0.7672\n",
      "Epoch 104/200\n",
      "5/5 [==============================] - 0s 2ms/step - loss: 0.0500 - lr: 0.7634\n",
      "Epoch 105/200\n",
      "5/5 [==============================] - 0s 2ms/step - loss: 0.0499 - lr: 0.7596\n",
      "Epoch 106/200\n",
      "5/5 [==============================] - 0s 2ms/step - loss: 0.0516 - lr: 0.7558\n",
      "Epoch 107/200\n",
      "5/5 [==============================] - 0s 2ms/step - loss: 0.0554 - lr: 0.7520\n",
      "Epoch 108/200\n",
      "5/5 [==============================] - 0s 2ms/step - loss: 0.0525 - lr: 0.7483\n",
      "Epoch 109/200\n",
      "5/5 [==============================] - 0s 2ms/step - loss: 0.0539 - lr: 0.7445\n",
      "Epoch 110/200\n",
      "5/5 [==============================] - 0s 2ms/step - loss: 0.0507 - lr: 0.7408\n",
      "Epoch 111/200\n",
      "5/5 [==============================] - 0s 2ms/step - loss: 0.0505 - lr: 0.7371\n",
      "Epoch 112/200\n",
      "5/5 [==============================] - 0s 3ms/step - loss: 0.0482 - lr: 0.7334\n",
      "Epoch 113/200\n",
      "5/5 [==============================] - 0s 3ms/step - loss: 0.0489 - lr: 0.7298\n",
      "Epoch 114/200\n",
      "5/5 [==============================] - 0s 2ms/step - loss: 0.0480 - lr: 0.7261\n",
      "Epoch 115/200\n",
      "5/5 [==============================] - 0s 2ms/step - loss: 0.0481 - lr: 0.7225\n",
      "Epoch 116/200\n",
      "5/5 [==============================] - 0s 2ms/step - loss: 0.0489 - lr: 0.7189\n",
      "Epoch 117/200\n",
      "5/5 [==============================] - 0s 2ms/step - loss: 0.0481 - lr: 0.7153\n",
      "Epoch 118/200\n",
      "5/5 [==============================] - 0s 2ms/step - loss: 0.0494 - lr: 0.7118\n",
      "Epoch 119/200\n",
      "5/5 [==============================] - 0s 2ms/step - loss: 0.0509 - lr: 0.7082\n",
      "Epoch 120/200\n",
      "5/5 [==============================] - 0s 2ms/step - loss: 0.0518 - lr: 0.7047\n",
      "Epoch 121/200\n",
      "5/5 [==============================] - 0s 2ms/step - loss: 0.0488 - lr: 0.7012\n",
      "Epoch 122/200\n",
      "5/5 [==============================] - 0s 2ms/step - loss: 0.0493 - lr: 0.6977\n",
      "Epoch 123/200\n",
      "5/5 [==============================] - 0s 2ms/step - loss: 0.0484 - lr: 0.6942\n",
      "Epoch 124/200\n",
      "5/5 [==============================] - 0s 2ms/step - loss: 0.0497 - lr: 0.6907\n",
      "Epoch 125/200\n",
      "5/5 [==============================] - 0s 2ms/step - loss: 0.0471 - lr: 0.6873\n",
      "Epoch 126/200\n",
      "5/5 [==============================] - 0s 2ms/step - loss: 0.0457 - lr: 0.6839\n",
      "Epoch 127/200\n",
      "5/5 [==============================] - 0s 2ms/step - loss: 0.0469 - lr: 0.6804\n",
      "Epoch 128/200\n",
      "5/5 [==============================] - 0s 2ms/step - loss: 0.0460 - lr: 0.6771\n",
      "Epoch 129/200\n",
      "5/5 [==============================] - 0s 2ms/step - loss: 0.0462 - lr: 0.6737\n",
      "Epoch 130/200\n",
      "5/5 [==============================] - 0s 2ms/step - loss: 0.0455 - lr: 0.6703\n",
      "Epoch 131/200\n",
      "5/5 [==============================] - 0s 2ms/step - loss: 0.0453 - lr: 0.6670\n",
      "Epoch 132/200\n",
      "5/5 [==============================] - 0s 2ms/step - loss: 0.0458 - lr: 0.6636\n",
      "Epoch 133/200\n",
      "5/5 [==============================] - 0s 2ms/step - loss: 0.0451 - lr: 0.6603\n",
      "Epoch 134/200\n",
      "5/5 [==============================] - 0s 2ms/step - loss: 0.0456 - lr: 0.6570\n",
      "Epoch 135/200\n",
      "5/5 [==============================] - 0s 2ms/step - loss: 0.0488 - lr: 0.6538\n",
      "Epoch 136/200\n",
      "5/5 [==============================] - 0s 2ms/step - loss: 0.0551 - lr: 0.6505\n",
      "Epoch 137/200\n",
      "5/5 [==============================] - 0s 2ms/step - loss: 0.0468 - lr: 0.6473\n",
      "Epoch 138/200\n",
      "5/5 [==============================] - 0s 2ms/step - loss: 0.0494 - lr: 0.6440\n",
      "Epoch 139/200\n",
      "5/5 [==============================] - 0s 2ms/step - loss: 0.0545 - lr: 0.6408\n",
      "Epoch 140/200\n",
      "5/5 [==============================] - 0s 2ms/step - loss: 0.0491 - lr: 0.6376\n",
      "Epoch 141/200\n",
      "5/5 [==============================] - 0s 2ms/step - loss: 0.0500 - lr: 0.6344\n",
      "Epoch 142/200\n",
      "5/5 [==============================] - 0s 2ms/step - loss: 0.0499 - lr: 0.6313\n",
      "Epoch 143/200\n",
      "5/5 [==============================] - 0s 2ms/step - loss: 0.0555 - lr: 0.6281\n",
      "Epoch 144/200\n",
      "5/5 [==============================] - 0s 2ms/step - loss: 0.0487 - lr: 0.6250\n",
      "Epoch 145/200\n",
      "5/5 [==============================] - 0s 2ms/step - loss: 0.0461 - lr: 0.6219\n",
      "Epoch 146/200\n",
      "5/5 [==============================] - 0s 2ms/step - loss: 0.0450 - lr: 0.6188\n",
      "Epoch 147/200\n",
      "5/5 [==============================] - 0s 2ms/step - loss: 0.0466 - lr: 0.6157\n",
      "Epoch 148/200\n",
      "5/5 [==============================] - 0s 2ms/step - loss: 0.0442 - lr: 0.6126\n",
      "Epoch 149/200\n",
      "5/5 [==============================] - 0s 2ms/step - loss: 0.0435 - lr: 0.6096\n",
      "Epoch 150/200\n",
      "5/5 [==============================] - 0s 2ms/step - loss: 0.0441 - lr: 0.6065\n",
      "Epoch 151/200\n",
      "5/5 [==============================] - 0s 2ms/step - loss: 0.0430 - lr: 0.6035\n",
      "Epoch 152/200\n",
      "5/5 [==============================] - 0s 2ms/step - loss: 0.0431 - lr: 0.6005\n",
      "Epoch 153/200\n",
      "5/5 [==============================] - 0s 2ms/step - loss: 0.0427 - lr: 0.5975\n",
      "Epoch 154/200\n",
      "5/5 [==============================] - 0s 2ms/step - loss: 0.0431 - lr: 0.5945\n",
      "Epoch 155/200\n",
      "5/5 [==============================] - 0s 2ms/step - loss: 0.0432 - lr: 0.5916\n",
      "Epoch 156/200\n",
      "5/5 [==============================] - 0s 2ms/step - loss: 0.0440 - lr: 0.5886\n",
      "Epoch 157/200\n",
      "5/5 [==============================] - 0s 2ms/step - loss: 0.0461 - lr: 0.5857\n",
      "Epoch 158/200\n",
      "5/5 [==============================] - 0s 3ms/step - loss: 0.0499 - lr: 0.5827\n",
      "Epoch 159/200\n",
      "5/5 [==============================] - 0s 2ms/step - loss: 0.0785 - lr: 0.5798\n",
      "Epoch 160/200\n",
      "5/5 [==============================] - 0s 3ms/step - loss: 0.0768 - lr: 0.5769\n",
      "Epoch 161/200\n",
      "5/5 [==============================] - 0s 2ms/step - loss: 0.0579 - lr: 0.5741\n",
      "Epoch 162/200\n",
      "5/5 [==============================] - 0s 2ms/step - loss: 0.0413 - lr: 0.5712\n",
      "Epoch 163/200\n",
      "5/5 [==============================] - 0s 2ms/step - loss: 0.0436 - lr: 0.5684\n",
      "Epoch 164/200\n",
      "5/5 [==============================] - 0s 2ms/step - loss: 0.0461 - lr: 0.5655\n",
      "Epoch 165/200\n",
      "5/5 [==============================] - 0s 2ms/step - loss: 0.0464 - lr: 0.5627\n",
      "Epoch 166/200\n",
      "5/5 [==============================] - 0s 2ms/step - loss: 0.0454 - lr: 0.5599\n",
      "Epoch 167/200\n",
      "5/5 [==============================] - 0s 2ms/step - loss: 0.0426 - lr: 0.5571\n",
      "Epoch 168/200\n",
      "5/5 [==============================] - 0s 2ms/step - loss: 0.0411 - lr: 0.5543\n",
      "Epoch 169/200\n",
      "5/5 [==============================] - 0s 2ms/step - loss: 0.0408 - lr: 0.5516\n",
      "Epoch 170/200\n",
      "5/5 [==============================] - 0s 2ms/step - loss: 0.0413 - lr: 0.5488\n",
      "Epoch 171/200\n",
      "5/5 [==============================] - 0s 2ms/step - loss: 0.0427 - lr: 0.5461\n",
      "Epoch 172/200\n",
      "5/5 [==============================] - 0s 2ms/step - loss: 0.0406 - lr: 0.5433\n",
      "Epoch 173/200\n",
      "5/5 [==============================] - 0s 2ms/step - loss: 0.0410 - lr: 0.5406\n",
      "Epoch 174/200\n",
      "5/5 [==============================] - 0s 2ms/step - loss: 0.0436 - lr: 0.5379\n",
      "Epoch 175/200\n",
      "5/5 [==============================] - 0s 2ms/step - loss: 0.0419 - lr: 0.5353\n",
      "Epoch 176/200\n",
      "5/5 [==============================] - 0s 2ms/step - loss: 0.0409 - lr: 0.5326\n",
      "Epoch 177/200\n",
      "5/5 [==============================] - 0s 2ms/step - loss: 0.0446 - lr: 0.5299\n",
      "Epoch 178/200\n",
      "5/5 [==============================] - 0s 2ms/step - loss: 0.0405 - lr: 0.5273\n",
      "Epoch 179/200\n",
      "5/5 [==============================] - 0s 2ms/step - loss: 0.0421 - lr: 0.5247\n",
      "Epoch 180/200\n",
      "5/5 [==============================] - 0s 2ms/step - loss: 0.0489 - lr: 0.5220\n",
      "Epoch 181/200\n",
      "5/5 [==============================] - 0s 2ms/step - loss: 0.0487 - lr: 0.5194\n",
      "Epoch 182/200\n",
      "5/5 [==============================] - 0s 2ms/step - loss: 0.0416 - lr: 0.5169\n",
      "Epoch 183/200\n",
      "5/5 [==============================] - 0s 2ms/step - loss: 0.0411 - lr: 0.5143\n",
      "Epoch 184/200\n",
      "5/5 [==============================] - 0s 2ms/step - loss: 0.0412 - lr: 0.5117\n",
      "Epoch 185/200\n",
      "5/5 [==============================] - 0s 2ms/step - loss: 0.0418 - lr: 0.5092\n",
      "Epoch 186/200\n",
      "5/5 [==============================] - 0s 2ms/step - loss: 0.0448 - lr: 0.5066\n",
      "Epoch 187/200\n",
      "5/5 [==============================] - 0s 2ms/step - loss: 0.0428 - lr: 0.5041\n",
      "Epoch 188/200\n",
      "5/5 [==============================] - 0s 2ms/step - loss: 0.0399 - lr: 0.5016\n",
      "Epoch 189/200\n",
      "5/5 [==============================] - 0s 3ms/step - loss: 0.0394 - lr: 0.4991\n",
      "Epoch 190/200\n",
      "5/5 [==============================] - 0s 2ms/step - loss: 0.0406 - lr: 0.4966\n",
      "Epoch 191/200\n",
      "5/5 [==============================] - 0s 2ms/step - loss: 0.0417 - lr: 0.4941\n",
      "Epoch 192/200\n",
      "5/5 [==============================] - 0s 2ms/step - loss: 0.0398 - lr: 0.4916\n",
      "Epoch 193/200\n",
      "5/5 [==============================] - 0s 2ms/step - loss: 0.0409 - lr: 0.4892\n",
      "Epoch 194/200\n",
      "5/5 [==============================] - 0s 2ms/step - loss: 0.0407 - lr: 0.4868\n",
      "Epoch 195/200\n",
      "5/5 [==============================] - 0s 2ms/step - loss: 0.0452 - lr: 0.4843\n",
      "Epoch 196/200\n",
      "5/5 [==============================] - 0s 2ms/step - loss: 0.0417 - lr: 0.4819\n",
      "Epoch 197/200\n",
      "5/5 [==============================] - 0s 2ms/step - loss: 0.0426 - lr: 0.4795\n",
      "Epoch 198/200\n",
      "5/5 [==============================] - 0s 2ms/step - loss: 0.0383 - lr: 0.4771\n",
      "Epoch 199/200\n",
      "5/5 [==============================] - 0s 2ms/step - loss: 0.0386 - lr: 0.4747\n",
      "Epoch 200/200\n",
      "5/5 [==============================] - 0s 2ms/step - loss: 0.0413 - lr: 0.4724\n"
     ]
    },
    {
     "data": {
      "text/plain": [
       "<keras.callbacks.History at 0x7d1d8c147f70>"
      ]
     },
     "execution_count": 5,
     "metadata": {},
     "output_type": "execute_result"
    }
   ],
   "source": [
    "def scheduler(epoch, lr):\n",
    "    if epoch < 50:\n",
    "        return lr\n",
    "    else:\n",
    "        return lr * tf.math.exp(-0.005)\n",
    "    \n",
    "callback = LearningRateScheduler(scheduler)\n",
    "\n",
    "\n",
    "model.compile(optimizer=Adam(learning_rate=1), loss='mean_squared_error')\n",
    "\n",
    "model.fit(x=[ks,kquads], y=labels, batch_size=100, epochs=200, callbacks=[callback], verbose=1)"
   ]
  },
  {
   "cell_type": "code",
   "execution_count": 6,
   "id": "340a6d7d",
   "metadata": {
    "execution": {
     "iopub.execute_input": "2023-06-16T12:47:53.827647Z",
     "iopub.status.busy": "2023-06-16T12:47:53.827156Z",
     "iopub.status.idle": "2023-06-16T12:47:55.738805Z",
     "shell.execute_reply": "2023-06-16T12:47:55.737841Z"
    },
    "papermill": {
     "duration": 1.957409,
     "end_time": "2023-06-16T12:47:55.741270",
     "exception": false,
     "start_time": "2023-06-16T12:47:53.783861",
     "status": "completed"
    },
    "tags": []
   },
   "outputs": [
    {
     "data": {
      "image/png": "[encoded data removed]",
      "text/plain": [
       "<Figure size 1200x1200 with 2 Axes>"
      ]
     },
     "metadata": {},
     "output_type": "display_data"
    }
   ],
   "source": [
    "\n",
    "predictions = np.ndarray.flatten(np.rint(model.predict([ks,kquads],verbose=0)).astype(int))\n",
    "\n",
    "# SOMETHING THAT WOULD BE NICE: RED BACKGROUNDS FOR THE SLOTS WHERE THE MODEL OUTPUT DIFFERS FROM THE GROUND TRUTH\n",
    "\n",
    "grid1 = convert_data_to_grid(k_list,label_list)\n",
    "title1 = \"Ground truth\"\n",
    "\n",
    "grid2 = convert_data_to_grid(k_list,predictions)\n",
    "title2 = \"Model output (rounded)\"\n",
    "\n",
    "\n",
    "fig, (ax1, ax2) = plt.subplots(1, 2, figsize=(12, 12))\n",
    "\n",
    "draw_grid(grid1, ax1, title1)\n",
    "draw_grid(grid2, ax2, title2)\n",
    "\n",
    "plt.tight_layout()\n",
    "plt.show()"
   ]
  },
  {
   "cell_type": "markdown",
   "id": "3d762b30",
   "metadata": {
    "papermill": {
     "duration": 0.042194,
     "end_time": "2023-06-16T12:47:55.826712",
     "exception": false,
     "start_time": "2023-06-16T12:47:55.784518",
     "status": "completed"
    },
    "tags": []
   },
   "source": [
    "## Checking individual layer behaviours"
   ]
  },
  {
   "cell_type": "code",
   "execution_count": 7,
   "id": "37e8090c",
   "metadata": {
    "execution": {
     "iopub.execute_input": "2023-06-16T12:47:55.912564Z",
     "iopub.status.busy": "2023-06-16T12:47:55.912148Z",
     "iopub.status.idle": "2023-06-16T12:47:56.123063Z",
     "shell.execute_reply": "2023-06-16T12:47:56.121866Z"
    },
    "papermill": {
     "duration": 0.256824,
     "end_time": "2023-06-16T12:47:56.125307",
     "exception": false,
     "start_time": "2023-06-16T12:47:55.868483",
     "status": "completed"
    },
    "tags": []
   },
   "outputs": [
    {
     "name": "stdout",
     "output_type": "stream",
     "text": [
      "1/1 [==============================] - 0s 87ms/step\n"
     ]
    },
    {
     "data": {
      "text/plain": [
       "array([[0.13267344, 0.00031266, 0.00325003, 0.00033949]], dtype=float32)"
      ]
     },
     "execution_count": 7,
     "metadata": {},
     "output_type": "execute_result"
    }
   ],
   "source": [
    "doms_hidden_weights = model.get_layer('doms_hidden').get_weights()\n",
    "doms_out_weights = model.get_layer('doms_out').get_weights()\n",
    "pols_out_weights = model.get_layer('pols_out').get_weights()\n",
    "\n",
    "doms_hidden_copy = Dense(units=num_hyps, input_shape=(2,), \n",
    "        activation='sigmoid',\n",
    "        weights=doms_hidden_weights,\n",
    "        use_bias=False, name='doms_hidden_copy')(k_input)\n",
    "doms_out_copy = Dense(units=num_doms,\n",
    "        activation='sigmoid',\n",
    "        trainable=False,\n",
    "        weights=doms_out_weights,\n",
    "        bias_initializer='ones', name='doms_out_copy')(doms_hidden)\n",
    "pols_out_copy = Dense(units=num_doms, input_shape=(6,), \n",
    "        use_bias=False,\n",
    "        weights=pols_out_weights,\n",
    "        name='pols_out_copy')(k_quad_input)\n",
    "final_pol_out_copy = Dot(axes=1)([doms_out,pols_out])\n",
    "\n",
    "model_test = Model(inputs=[k_input], outputs=[doms_out_copy])\n",
    "\n",
    "model_test.predict([[10,0]])"
   ]
  },
  {
   "cell_type": "code",
   "execution_count": 8,
   "id": "dbf10352",
   "metadata": {
    "execution": {
     "iopub.execute_input": "2023-06-16T12:47:56.216760Z",
     "iopub.status.busy": "2023-06-16T12:47:56.216357Z",
     "iopub.status.idle": "2023-06-16T12:47:56.222124Z",
     "shell.execute_reply": "2023-06-16T12:47:56.221195Z"
    },
    "papermill": {
     "duration": 0.056188,
     "end_time": "2023-06-16T12:47:56.224454",
     "exception": false,
     "start_time": "2023-06-16T12:47:56.168266",
     "status": "completed"
    },
    "tags": []
   },
   "outputs": [
    {
     "name": "stdout",
     "output_type": "stream",
     "text": [
      "[-500. -100. -100.  300.]\n",
      "[[ 400.  400. -400. -400.]\n",
      " [ 400. -400.  400. -400.]]\n"
     ]
    }
   ],
   "source": [
    "print(bias_array)\n",
    "print(weights_array)"
   ]
  },
  {
   "cell_type": "markdown",
   "id": "33a55c98",
   "metadata": {
    "papermill": {
     "duration": 0.042899,
     "end_time": "2023-06-16T12:47:56.310707",
     "exception": false,
     "start_time": "2023-06-16T12:47:56.267808",
     "status": "completed"
    },
    "tags": []
   },
   "source": [
    "# Checking the trained model"
   ]
  },
  {
   "cell_type": "code",
   "execution_count": 9,
   "id": "7a6eebcb",
   "metadata": {
    "execution": {
     "iopub.execute_input": "2023-06-16T12:47:56.398870Z",
     "iopub.status.busy": "2023-06-16T12:47:56.397824Z",
     "iopub.status.idle": "2023-06-16T12:47:56.407783Z",
     "shell.execute_reply": "2023-06-16T12:47:56.406888Z"
    },
    "papermill": {
     "duration": 0.056272,
     "end_time": "2023-06-16T12:47:56.409888",
     "exception": false,
     "start_time": "2023-06-16T12:47:56.353616",
     "status": "completed"
    },
    "tags": []
   },
   "outputs": [
    {
     "data": {
      "text/plain": [
       "[<tf.Variable 'doms_hidden/kernel:0' shape=(2, 2) dtype=float32, numpy=\n",
       " array([[-6.4485145, -1.772568 ],\n",
       "        [-1.2725588, -8.898662 ]], dtype=float32)>,\n",
       " <tf.Variable 'doms_out/kernel:0' shape=(2, 4) dtype=float32, numpy=\n",
       " array([[-6.4849424, -9.62168  , -7.424181 , -8.639342 ],\n",
       "        [-7.7003345, -8.582648 , -8.780983 , -9.221998 ]], dtype=float32)>,\n",
       " <tf.Variable 'doms_out/bias:0' shape=(4,) dtype=float32, numpy=array([-1.8775246, -8.070092 , -5.725836 , -7.9877267], dtype=float32)>,\n",
       " <tf.Variable 'pols_out/kernel:0' shape=(6, 4) dtype=float32, numpy=\n",
       " array([[ 0.81189233, -2.605822  , -0.7418573 , -2.6002083 ],\n",
       "        [ 7.7662077 ,  3.557312  ,  8.264083  ,  4.4764695 ],\n",
       "        [ 9.600996  ,  7.5755596 ,  9.698506  ,  7.522887  ],\n",
       "        [ 0.04050346, -1.8726021 , -0.2667291 , -2.2231212 ],\n",
       "        [ 7.294239  ,  0.28002578,  4.5340104 ,  1.4929259 ],\n",
       "        [-0.12083264, -2.712273  , -1.2347921 , -2.484008  ]],\n",
       "       dtype=float32)>]"
      ]
     },
     "execution_count": 9,
     "metadata": {},
     "output_type": "execute_result"
    }
   ],
   "source": [
    "model.weights"
   ]
  },
  {
   "cell_type": "code",
   "execution_count": 10,
   "id": "ee48ed31",
   "metadata": {
    "execution": {
     "iopub.execute_input": "2023-06-16T12:47:56.497870Z",
     "iopub.status.busy": "2023-06-16T12:47:56.497224Z",
     "iopub.status.idle": "2023-06-16T12:47:56.576117Z",
     "shell.execute_reply": "2023-06-16T12:47:56.574952Z"
    },
    "papermill": {
     "duration": 0.124676,
     "end_time": "2023-06-16T12:47:56.578192",
     "exception": false,
     "start_time": "2023-06-16T12:47:56.453516",
     "status": "completed"
    },
    "tags": []
   },
   "outputs": [
    {
     "name": "stdout",
     "output_type": "stream",
     "text": [
      "[[10  1]\n",
      " [10  2]\n",
      " [10  3]\n",
      " [10  4]\n",
      " [10  5]\n",
      " [10  6]\n",
      " [10  7]\n",
      " [10  8]\n",
      " [10  9]\n",
      " [10 10]]\n",
      "[ 22  33  44  55  66  77  88  99 110 121]\n",
      "1/1 [==============================] - 0s 23ms/step\n"
     ]
    },
    {
     "data": {
      "text/plain": [
       "array([[ 22.138199],\n",
       "       [ 33.214054],\n",
       "       [ 44.246437],\n",
       "       [ 55.235344],\n",
       "       [ 66.18078 ],\n",
       "       [ 77.08274 ],\n",
       "       [ 87.941246],\n",
       "       [ 98.75626 ],\n",
       "       [109.527824],\n",
       "       [120.2559  ]], dtype=float32)"
      ]
     },
     "execution_count": 10,
     "metadata": {},
     "output_type": "execute_result"
    }
   ],
   "source": [
    "temp = 10\n",
    "\n",
    "print(ks[-10:])\n",
    "print(labels[-10:])\n",
    "\n",
    "\n",
    "model.predict([ks[-10:],kquads[-10:]])"
   ]
  },
  {
   "cell_type": "code",
   "execution_count": 11,
   "id": "92cbda9c",
   "metadata": {
    "execution": {
     "iopub.execute_input": "2023-06-16T12:47:56.667629Z",
     "iopub.status.busy": "2023-06-16T12:47:56.666512Z",
     "iopub.status.idle": "2023-06-16T12:47:56.752578Z",
     "shell.execute_reply": "2023-06-16T12:47:56.751777Z"
    },
    "papermill": {
     "duration": 0.133448,
     "end_time": "2023-06-16T12:47:56.754609",
     "exception": false,
     "start_time": "2023-06-16T12:47:56.621161",
     "status": "completed"
    },
    "tags": []
   },
   "outputs": [
    {
     "name": "stdout",
     "output_type": "stream",
     "text": [
      "1/1 [==============================] - 0s 26ms/step\n"
     ]
    },
    {
     "data": {
      "text/plain": [
       "array([[0.00010228]], dtype=float32)"
      ]
     },
     "execution_count": 11,
     "metadata": {},
     "output_type": "execute_result"
    }
   ],
   "source": [
    "model.predict([np.array([[0,0]]),np.array([[1,0,0,0,0,0]])])"
   ]
  },
  {
   "cell_type": "code",
   "execution_count": 12,
   "id": "efc9fc37",
   "metadata": {
    "execution": {
     "iopub.execute_input": "2023-06-16T12:47:56.843308Z",
     "iopub.status.busy": "2023-06-16T12:47:56.842887Z",
     "iopub.status.idle": "2023-06-16T12:47:56.923591Z",
     "shell.execute_reply": "2023-06-16T12:47:56.922715Z"
    },
    "papermill": {
     "duration": 0.127861,
     "end_time": "2023-06-16T12:47:56.925814",
     "exception": false,
     "start_time": "2023-06-16T12:47:56.797953",
     "status": "completed"
    },
    "tags": []
   },
   "outputs": [
    {
     "name": "stdout",
     "output_type": "stream",
     "text": [
      "[[-10 -10]\n",
      " [-10  -9]\n",
      " [-10  -8]\n",
      " [-10  -7]\n",
      " [-10  -6]\n",
      " [-10  -5]\n",
      " [-10  -4]\n",
      " [-10  -3]\n",
      " [-10  -2]\n",
      " [-10  -1]]\n",
      "[0 0 0 0 0 0 0 0 0 0]\n",
      "1/1 [==============================] - 0s 25ms/step\n"
     ]
    },
    {
     "data": {
      "text/plain": [
       "array([[ 5.80035339e-05],\n",
       "       [ 5.15487409e-05],\n",
       "       [ 4.50676125e-05],\n",
       "       [ 3.85601597e-05],\n",
       "       [ 3.20263789e-05],\n",
       "       [ 2.54662664e-05],\n",
       "       [ 1.88798240e-05],\n",
       "       [ 1.22670535e-05],\n",
       "       [ 5.62795412e-06],\n",
       "       [-1.03747436e-06]], dtype=float32)"
      ]
     },
     "execution_count": 12,
     "metadata": {},
     "output_type": "execute_result"
    }
   ],
   "source": [
    "temp = 10\n",
    "\n",
    "print(ks[:10])\n",
    "print(labels[:10])\n",
    "\n",
    "\n",
    "model.predict([ks[:10],kquads[:10]])"
   ]
  },
  {
   "cell_type": "code",
   "execution_count": null,
   "id": "1aa9278c",
   "metadata": {
    "execution": {
     "iopub.execute_input": "2023-06-16T12:45:37.449378Z",
     "iopub.status.busy": "2023-06-16T12:45:37.447739Z",
     "iopub.status.idle": "2023-06-16T12:45:37.583818Z",
     "shell.execute_reply": "2023-06-16T12:45:37.582415Z",
     "shell.execute_reply.started": "2023-06-16T12:45:37.449320Z"
    },
    "papermill": {
     "duration": 0.043133,
     "end_time": "2023-06-16T12:47:57.013363",
     "exception": false,
     "start_time": "2023-06-16T12:47:56.970230",
     "status": "completed"
    },
    "tags": []
   },
   "outputs": [],
   "source": []
  },
  {
   "cell_type": "code",
   "execution_count": 13,
   "id": "7f0f9d6e",
   "metadata": {
    "execution": {
     "iopub.execute_input": "2023-06-16T12:47:57.108189Z",
     "iopub.status.busy": "2023-06-16T12:47:57.107784Z",
     "iopub.status.idle": "2023-06-16T12:47:57.114317Z",
     "shell.execute_reply": "2023-06-16T12:47:57.113172Z"
    },
    "papermill": {
     "duration": 0.059252,
     "end_time": "2023-06-16T12:47:57.116317",
     "exception": false,
     "start_time": "2023-06-16T12:47:57.057065",
     "status": "completed"
    },
    "tags": []
   },
   "outputs": [
    {
     "data": {
      "text/plain": [
       "numpy.ndarray"
      ]
     },
     "execution_count": 13,
     "metadata": {},
     "output_type": "execute_result"
    }
   ],
   "source": [
    "type(k_list[0])"
   ]
  },
  {
   "cell_type": "code",
   "execution_count": null,
   "id": "94f6bb38",
   "metadata": {
    "papermill": {
     "duration": 0.044156,
     "end_time": "2023-06-16T12:47:57.204543",
     "exception": false,
     "start_time": "2023-06-16T12:47:57.160387",
     "status": "completed"
    },
    "tags": []
   },
   "outputs": [],
   "source": []
  }
 ],
 "metadata": {
  "kernelspec": {
   "display_name": "Python 3",
   "language": "python",
   "name": "python3"
  },
  "language_info": {
   "codemirror_mode": {
    "name": "ipython",
    "version": 3
   },
   "file_extension": ".py",
   "mimetype": "text/x-python",
   "name": "python",
   "nbconvert_exporter": "python",
   "pygments_lexer": "ipython3",
   "version": "3.10.10"
  },
  "papermill": {
   "default_parameters": {},
   "duration": 31.955404,
   "end_time": "2023-06-16T12:48:00.206433",
   "environment_variables": {},
   "exception": null,
   "input_path": "__notebook__.ipynb",
   "output_path": "__notebook__.ipynb",
   "parameters": {},
   "start_time": "2023-06-16T12:47:28.251029",
   "version": "2.4.0"
  }
 },
 "nbformat": 4,
 "nbformat_minor": 5
}
